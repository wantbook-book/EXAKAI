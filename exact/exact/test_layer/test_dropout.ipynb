{
 "cells": [
  {
   "cell_type": "code",
   "execution_count": 1,
   "metadata": {},
   "outputs": [
    {
     "name": "stderr",
     "output_type": "stream",
     "text": [
      "/home/akai/anaconda3/envs/EXACT/lib/python3.8/site-packages/tqdm/auto.py:21: TqdmWarning: IProgress not found. Please update jupyter and ipywidgets. See https://ipywidgets.readthedocs.io/en/stable/user_install.html\n",
      "  from .autonotebook import tqdm as notebook_tqdm\n"
     ]
    }
   ],
   "source": [
    "from exact.layers import QDropout\n",
    "import torch\n",
    "import torch.nn"
   ]
  },
  {
   "cell_type": "code",
   "execution_count": 5,
   "metadata": {},
   "outputs": [
    {
     "name": "stdout",
     "output_type": "stream",
     "text": [
      "tensor([[ 0.9682, -1.1541],\n",
      "        [-1.2543, -2.3675],\n",
      "        [ 0.3625,  0.5088]], device='cuda:0', requires_grad=True)\n",
      "tensor([[-1.9086,  1.0621],\n",
      "        [-0.3484, -0.8709],\n",
      "        [-1.5969,  0.4912]], device='cuda:0')\n"
     ]
    }
   ],
   "source": [
    "my_dropout = QDropout(0.5)\n",
    "\n",
    "torch_dropout = torch.nn.Dropout(0.5)\n",
    "\n",
    "\n",
    "input = torch.randn(3, 2, dtype=torch.float32, requires_grad=True, device='cuda')\n",
    "grad_output = torch.randn(3, 2, dtype=torch.float32, device='cuda')\n",
    "print(input)\n",
    "print(grad_output)"
   ]
  },
  {
   "cell_type": "code",
   "execution_count": 6,
   "metadata": {},
   "outputs": [],
   "source": [
    "my_output = my_dropout(input)\n",
    "torch_output = torch_dropout(input)"
   ]
  },
  {
   "cell_type": "code",
   "execution_count": 10,
   "metadata": {},
   "outputs": [
    {
     "name": "stdout",
     "output_type": "stream",
     "text": [
      "True\n",
      "tensor([[ 0.0000, -2.3083],\n",
      "        [ 0.0000,  0.0000],\n",
      "        [ 0.0000,  1.0176]], device='cuda:0',\n",
      "       grad_fn=<CppNode<ActQuantizedDropout>>)\n",
      "tensor([[ 0.0000, -2.3083],\n",
      "        [-2.5087,  0.0000],\n",
      "        [ 0.7249,  0.0000]], device='cuda:0', grad_fn=<FusedDropoutBackward>)\n"
     ]
    }
   ],
   "source": [
    "print(my_dropout.training)\n",
    "print(my_output)\n",
    "print(torch_output)"
   ]
  },
  {
   "cell_type": "code",
   "execution_count": 7,
   "metadata": {},
   "outputs": [
    {
     "name": "stdout",
     "output_type": "stream",
     "text": [
      "False\n"
     ]
    }
   ],
   "source": [
    "print(torch.allclose(my_output, torch_output))"
   ]
  },
  {
   "cell_type": "code",
   "execution_count": 11,
   "metadata": {},
   "outputs": [
    {
     "ename": "AttributeError",
     "evalue": "'QDropout' object has no attribute 'backward'",
     "output_type": "error",
     "traceback": [
      "\u001b[0;31m---------------------------------------------------------------------------\u001b[0m",
      "\u001b[0;31mAttributeError\u001b[0m                            Traceback (most recent call last)",
      "Cell \u001b[0;32mIn[11], line 1\u001b[0m\n\u001b[0;32m----> 1\u001b[0m my_dropout\u001b[39m.\u001b[39;49mbackward(grad_output)\n\u001b[1;32m      2\u001b[0m torch_output\u001b[39m.\u001b[39mbackward(grad_output)\n",
      "File \u001b[0;32m~/anaconda3/envs/EXACT/lib/python3.8/site-packages/torch/nn/modules/module.py:1130\u001b[0m, in \u001b[0;36mModule.__getattr__\u001b[0;34m(self, name)\u001b[0m\n\u001b[1;32m   1128\u001b[0m     \u001b[39mif\u001b[39;00m name \u001b[39min\u001b[39;00m modules:\n\u001b[1;32m   1129\u001b[0m         \u001b[39mreturn\u001b[39;00m modules[name]\n\u001b[0;32m-> 1130\u001b[0m \u001b[39mraise\u001b[39;00m \u001b[39mAttributeError\u001b[39;00m(\u001b[39m\"\u001b[39m\u001b[39m'\u001b[39m\u001b[39m{}\u001b[39;00m\u001b[39m'\u001b[39m\u001b[39m object has no attribute \u001b[39m\u001b[39m'\u001b[39m\u001b[39m{}\u001b[39;00m\u001b[39m'\u001b[39m\u001b[39m\"\u001b[39m\u001b[39m.\u001b[39mformat(\n\u001b[1;32m   1131\u001b[0m     \u001b[39mtype\u001b[39m(\u001b[39mself\u001b[39m)\u001b[39m.\u001b[39m\u001b[39m__name__\u001b[39m, name))\n",
      "\u001b[0;31mAttributeError\u001b[0m: 'QDropout' object has no attribute 'backward'"
     ]
    }
   ],
   "source": [
    "# my_dropout.backward(grad_output)\n",
    "torch_output.backward(grad_output)"
   ]
  },
  {
   "cell_type": "code",
   "execution_count": 12,
   "metadata": {},
   "outputs": [
    {
     "name": "stdout",
     "output_type": "stream",
     "text": [
      "tensor([[-1.9086,  1.0621],\n",
      "        [-0.3484, -0.8709],\n",
      "        [-1.5969,  0.4912]], device='cuda:0')\n",
      "None\n"
     ]
    },
    {
     "name": "stderr",
     "output_type": "stream",
     "text": [
      "/tmp/ipykernel_43471/297168353.py:3: UserWarning: The .grad attribute of a Tensor that is not a leaf Tensor is being accessed. Its .grad attribute won't be populated during autograd.backward(). If you indeed want the gradient for a non-leaf Tensor, use .retain_grad() on the non-leaf Tensor. If you access the non-leaf Tensor by mistake, make sure you access the leaf Tensor instead. See github.com/pytorch/pytorch/pull/30531 for more information.\n",
      "  print(torch_output.grad)\n"
     ]
    }
   ],
   "source": [
    "# print(torch.allclose(input.grad, torch_output.grad))\n",
    "print(grad_output)\n",
    "print(torch_output.grad)"
   ]
  },
  {
   "cell_type": "code",
   "execution_count": null,
   "metadata": {},
   "outputs": [],
   "source": []
  }
 ],
 "metadata": {
  "kernelspec": {
   "display_name": "EXACT",
   "language": "python",
   "name": "python3"
  },
  "language_info": {
   "codemirror_mode": {
    "name": "ipython",
    "version": 3
   },
   "file_extension": ".py",
   "mimetype": "text/x-python",
   "name": "python",
   "nbconvert_exporter": "python",
   "pygments_lexer": "ipython3",
   "version": "3.8.17"
  },
  "orig_nbformat": 4
 },
 "nbformat": 4,
 "nbformat_minor": 2
}
