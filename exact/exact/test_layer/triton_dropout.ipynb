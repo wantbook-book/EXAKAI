{
 "cells": [
  {
   "cell_type": "code",
   "execution_count": 2,
   "metadata": {},
   "outputs": [],
   "source": [
    "import torch\n",
    "import torch.nn\n",
    "import triton\n",
    "import triton.language as tl\n"
   ]
  },
  {
   "cell_type": "code",
   "execution_count": null,
   "metadata": {},
   "outputs": [],
   "source": [
    "@triton.jit\n",
    "def act_quantized_dropout_forward_kernel(\n",
    "    data, output,\n",
    "    mask,\n",
    "    p,\n",
    "    seed, offset,\n",
    "    BLOCK_SIZE: tl.constexpr,\n",
    "):\n",
    "    pid = tl.program_id(axis=0)\n",
    "    offs_data = pid * BLOCK_SIZE + tl.arange(0, BLOCK_SIZE)\n",
    "    offs_mask = pid * BLOCK_SIZE + tl.arange(0, BLOCK_SIZE)\n",
    "    # 1. shared mask \n",
    "    shared_mask_len = tl.cdiv(BLOCK_SIZE, 8) \n",
    "    shared_mask = tl.zeros((shared_mask_len), dtype=tl.int8)\n",
    "    # 2. load data and mask\n",
    "    data = tl.load(data + offs_data)\n",
    "    mask = tl.load(mask + offs_mask)\n",
    "    # 3. generate random number\n",
    "    for i in range(0, BLOCK_SIZE):\n",
    "        drop = tl.rand(seed, offset)>p\n",
    "        \n",
    "\n",
    "        \n",
    "\n",
    "\n",
    "\n",
    "    pass\n",
    "\n",
    "class TDropout(torch.nn.Module):\n",
    "    def __init__(self, p=0.5):\n",
    "        super().__init__()\n",
    "        self.p = p\n",
    "\n",
    "    def forward(self, x):\n",
    "        return triton.ops.dropout(x, self.p)"
   ]
  }
 ],
 "metadata": {
  "kernelspec": {
   "display_name": "EXACT",
   "language": "python",
   "name": "python3"
  },
  "language_info": {
   "codemirror_mode": {
    "name": "ipython",
    "version": 3
   },
   "file_extension": ".py",
   "mimetype": "text/x-python",
   "name": "python",
   "nbconvert_exporter": "python",
   "pygments_lexer": "ipython3",
   "version": "3.8.17"
  },
  "orig_nbformat": 4
 },
 "nbformat": 4,
 "nbformat_minor": 2
}
