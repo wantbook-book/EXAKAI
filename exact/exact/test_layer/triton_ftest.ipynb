{
 "cells": [
  {
   "cell_type": "code",
   "execution_count": 85,
   "metadata": {},
   "outputs": [],
   "source": [
    "import triton\n",
    "import triton.language as tl\n",
    "import torch"
   ]
  },
  {
   "cell_type": "code",
   "execution_count": 86,
   "metadata": {},
   "outputs": [],
   "source": [
    "@triton.jit\n",
    "def kernel(\n",
    "        input_ptr, output_ptr, buffer_ptr,\n",
    "        N, seed, offset,\n",
    "        BLOCK_SIZE: tl.constexpr\n",
    "):\n",
    "    pid = tl.program_id(0)\n",
    "    offs = tl.arange(0, BLOCK_SIZE)\n",
    "    input_offs = pid * BLOCK_SIZE + offs\n",
    "    output_offs = pid * BLOCK_SIZE + offs\n",
    "    buffer_offs = pid * BLOCK_SIZE + offs\n",
    "    mask = input_offs<N\n",
    "    inputdata = tl.load(input_ptr+input_offs, mask=mask)\n",
    "    \n",
    "    \n",
    "    # tmp3 = tl.zeros((BLOCK_SIZE,), dtype=tl.float32)+2\n",
    "#     seeds = tl.full([1, BLOCK_SIZE], seed, dtype=tl.int32)\n",
    "#     tmp3 = tl.rand(seed, seed)\n",
    "    mask = output_offs<N\n",
    "    output_ptrs = output_ptr + output_offs\n",
    "\n",
    "    tl.store(output_ptrs, inputdata, mask=mask)\n"
   ]
  },
  {
   "cell_type": "code",
   "execution_count": 87,
   "metadata": {},
   "outputs": [],
   "source": [
    "def use_kernel(inputdata, buffer, seed, offset):\n",
    "    output = torch.empty_like(inputdata)\n",
    "    assert inputdata.is_cuda and buffer.is_cuda and output.is_cuda\n",
    "    N = output.numel()\n",
    "    grid = lambda META: (\n",
    "        triton.cdiv(N, META['BLOCK_SIZE']),\n",
    "    )\n",
    "    kernel[grid](inputdata, output, buffer, N, seed, offset, BLOCK_SIZE=3)\n",
    "    print(output)\n",
    "    return output\n"
   ]
  },
  {
   "cell_type": "code",
   "execution_count": 88,
   "metadata": {},
   "outputs": [
    {
     "name": "stderr",
     "output_type": "stream",
     "text": [
      "loc(\"/tmp/ipykernel_7604/3976588479.py\":8:24): error: Number of elements must be power-of-two, but %2 = \"tt.make_range\"() <{end = 3 : i32, start = 0 : i32}> : () -> tensor<3xi32> doesn't follow the rule (3) elements\n"
     ]
    },
    {
     "ename": "RuntimeError",
     "evalue": "PassManager::run failed",
     "output_type": "error",
     "traceback": [
      "\u001b[0;31m---------------------------------------------------------------------------\u001b[0m",
      "\u001b[0;31mRuntimeError\u001b[0m                              Traceback (most recent call last)",
      "Cell \u001b[0;32mIn[88], line 7\u001b[0m\n\u001b[1;32m      5\u001b[0m seed\u001b[39m=\u001b[39m\u001b[39m0\u001b[39m\n\u001b[1;32m      6\u001b[0m offset \u001b[39m=\u001b[39m \u001b[39m0\u001b[39m\n\u001b[0;32m----> 7\u001b[0m output \u001b[39m=\u001b[39m use_kernel(inputdata, buffer, seed, offset)\n",
      "Cell \u001b[0;32mIn[87], line 8\u001b[0m, in \u001b[0;36muse_kernel\u001b[0;34m(inputdata, buffer, seed, offset)\u001b[0m\n\u001b[1;32m      4\u001b[0m N \u001b[39m=\u001b[39m output\u001b[39m.\u001b[39mnumel()\n\u001b[1;32m      5\u001b[0m grid \u001b[39m=\u001b[39m \u001b[39mlambda\u001b[39;00m META: (\n\u001b[1;32m      6\u001b[0m     triton\u001b[39m.\u001b[39mcdiv(N, META[\u001b[39m'\u001b[39m\u001b[39mBLOCK_SIZE\u001b[39m\u001b[39m'\u001b[39m]),\n\u001b[1;32m      7\u001b[0m )\n\u001b[0;32m----> 8\u001b[0m kernel[grid](inputdata, output, buffer, N, seed, offset, BLOCK_SIZE\u001b[39m=\u001b[39;49m\u001b[39m3\u001b[39;49m)\n\u001b[1;32m      9\u001b[0m \u001b[39mprint\u001b[39m(output)\n\u001b[1;32m     10\u001b[0m \u001b[39mreturn\u001b[39;00m output\n",
      "File \u001b[0;32m<string>:62\u001b[0m, in \u001b[0;36mkernel\u001b[0;34m(input_ptr, output_ptr, buffer_ptr, N, seed, offset, BLOCK_SIZE, grid, num_warps, num_stages, extern_libs, stream, warmup, device, device_type)\u001b[0m\n",
      "File \u001b[0;32m~/anaconda3/envs/EXACT/lib/python3.8/site-packages/triton/compiler/compiler.py:495\u001b[0m, in \u001b[0;36mcompile\u001b[0;34m(fn, **kwargs)\u001b[0m\n\u001b[1;32m    493\u001b[0m path \u001b[39m=\u001b[39m metadata_group\u001b[39m.\u001b[39mget(ir_filename)\n\u001b[1;32m    494\u001b[0m \u001b[39mif\u001b[39;00m path \u001b[39mis\u001b[39;00m \u001b[39mNone\u001b[39;00m:\n\u001b[0;32m--> 495\u001b[0m     next_module \u001b[39m=\u001b[39m compile_kernel(module)\n\u001b[1;32m    496\u001b[0m     \u001b[39mif\u001b[39;00m ir \u001b[39m==\u001b[39m \u001b[39m\"\u001b[39m\u001b[39mamdgcn\u001b[39m\u001b[39m\"\u001b[39m:\n\u001b[1;32m    497\u001b[0m         extra_file_name \u001b[39m=\u001b[39m \u001b[39mf\u001b[39m\u001b[39m\"\u001b[39m\u001b[39m{\u001b[39;00mname\u001b[39m}\u001b[39;00m\u001b[39m.hsaco_path\u001b[39m\u001b[39m\"\u001b[39m\n",
      "File \u001b[0;32m~/anaconda3/envs/EXACT/lib/python3.8/site-packages/triton/compiler/compiler.py:400\u001b[0m, in \u001b[0;36mcompile.<locals>.<lambda>\u001b[0;34m(src)\u001b[0m\n\u001b[1;32m    397\u001b[0m stages \u001b[39m=\u001b[39m \u001b[39mdict\u001b[39m()\n\u001b[1;32m    398\u001b[0m stages[\u001b[39m\"\u001b[39m\u001b[39mast\u001b[39m\u001b[39m\"\u001b[39m] \u001b[39m=\u001b[39m (\u001b[39mlambda\u001b[39;00m path: fn, \u001b[39mNone\u001b[39;00m)\n\u001b[1;32m    399\u001b[0m stages[\u001b[39m\"\u001b[39m\u001b[39mttir\u001b[39m\u001b[39m\"\u001b[39m] \u001b[39m=\u001b[39m (\u001b[39mlambda\u001b[39;00m path: parse_mlir_module(path, context),\n\u001b[0;32m--> 400\u001b[0m                   \u001b[39mlambda\u001b[39;00m src: optimize_ttir(ast_to_ttir(src, signature, configs[\u001b[39m0\u001b[39;49m], constants, debug\u001b[39m=\u001b[39;49mdebug, arch\u001b[39m=\u001b[39;49march), arch))\n\u001b[1;32m    401\u001b[0m stages[\u001b[39m\"\u001b[39m\u001b[39mttgir\u001b[39m\u001b[39m\"\u001b[39m] \u001b[39m=\u001b[39m (\u001b[39mlambda\u001b[39;00m path: parse_mlir_module(path, context),\n\u001b[1;32m    402\u001b[0m                    \u001b[39mlambda\u001b[39;00m src: optimize_ttgir(ttir_to_ttgir(src, num_warps), num_stages, arch))\n\u001b[1;32m    403\u001b[0m stages[\u001b[39m\"\u001b[39m\u001b[39mllir\u001b[39m\u001b[39m\"\u001b[39m] \u001b[39m=\u001b[39m (\u001b[39mlambda\u001b[39;00m path: Path(path)\u001b[39m.\u001b[39mread_text(),\n\u001b[1;32m    404\u001b[0m                   \u001b[39mlambda\u001b[39;00m src: ttgir_to_llir(src, extern_libs, arch))\n",
      "File \u001b[0;32m~/anaconda3/envs/EXACT/lib/python3.8/site-packages/triton/compiler/compiler.py:51\u001b[0m, in \u001b[0;36moptimize_ttir\u001b[0;34m(mod, arch)\u001b[0m\n\u001b[1;32m     50\u001b[0m \u001b[39mdef\u001b[39;00m \u001b[39moptimize_ttir\u001b[39m(mod, arch):\n\u001b[0;32m---> 51\u001b[0m     mod \u001b[39m=\u001b[39m inline_triton_ir(mod)\n\u001b[1;32m     52\u001b[0m     mod \u001b[39m=\u001b[39m ttir_compute_capability_rewrite(mod, arch)\n\u001b[1;32m     53\u001b[0m     pm \u001b[39m=\u001b[39m ir\u001b[39m.\u001b[39mpass_manager(mod\u001b[39m.\u001b[39mcontext)\n",
      "File \u001b[0;32m~/anaconda3/envs/EXACT/lib/python3.8/site-packages/triton/compiler/compiler.py:35\u001b[0m, in \u001b[0;36minline_triton_ir\u001b[0;34m(mod)\u001b[0m\n\u001b[1;32m     33\u001b[0m pm\u001b[39m.\u001b[39menable_debug()\n\u001b[1;32m     34\u001b[0m pm\u001b[39m.\u001b[39madd_inliner_pass()\n\u001b[0;32m---> 35\u001b[0m pm\u001b[39m.\u001b[39;49mrun(mod)\n\u001b[1;32m     36\u001b[0m \u001b[39mreturn\u001b[39;00m mod\n",
      "\u001b[0;31mRuntimeError\u001b[0m: PassManager::run failed"
     ]
    }
   ],
   "source": [
    "N = 9\n",
    "inputdata = torch.empty(N, device='cuda', dtype=torch.float32)\n",
    "# output = torch.empty(N, device='cuda', dtype=torch.float32)\n",
    "buffer = torch.empty(N, device='cuda', dtype=torch.float32)\n",
    "seed=0\n",
    "offset = 0\n",
    "output = use_kernel(inputdata, buffer, seed, offset)"
   ]
  },
  {
   "cell_type": "markdown",
   "metadata": {},
   "source": []
  },
  {
   "cell_type": "code",
   "execution_count": null,
   "metadata": {},
   "outputs": [],
   "source": []
  },
  {
   "cell_type": "code",
   "execution_count": null,
   "metadata": {},
   "outputs": [],
   "source": []
  }
 ],
 "metadata": {
  "kernelspec": {
   "display_name": "EXACT",
   "language": "python",
   "name": "python3"
  },
  "language_info": {
   "codemirror_mode": {
    "name": "ipython",
    "version": 3
   },
   "file_extension": ".py",
   "mimetype": "text/x-python",
   "name": "python",
   "nbconvert_exporter": "python",
   "pygments_lexer": "ipython3",
   "version": "3.8.17"
  },
  "orig_nbformat": 4
 },
 "nbformat": 4,
 "nbformat_minor": 2
}
